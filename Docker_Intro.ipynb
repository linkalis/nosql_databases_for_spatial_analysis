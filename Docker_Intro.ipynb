{
 "cells": [
  {
   "cell_type": "markdown",
   "metadata": {},
   "source": [
    "# Introduction to Docker"
   ]
  },
  {
   "cell_type": "markdown",
   "metadata": {},
   "source": [
    "## How do I install Docker?\n",
    "\n",
    "These tutorials assume you have Docker installed and running on your local machine.  For instructions on how to install Docker, see the [Mac](https://docs.docker.com/docker-for-mac/install/) and [Windows](https://docs.docker.com/docker-for-windows/install/) instructions available on the Docker website."
   ]
  },
  {
   "cell_type": "markdown",
   "metadata": {},
   "source": [
    "## What is Docker?\n",
    "\n",
    "Docker is a 'containerization' tool for testing and deploying applications in a reproducible, scalable way.  For those who are familiar with using virtual machines for testing and deploying applications, Docker acts a little bit like a virtual machine.  The main difference is that Docker is less resource-intensive because it allows multiple different applications--or 'containers'--to run simultaneously on top of a single host, instead of having to set up an entire virtual machine for each application.\n",
    "\n",
    "In a nutshell, Docker offers a quick, reproducible way to share software with others and allow them to run apps and tools locally without having to worry about cross-platform dependency issues!"
   ]
  },
  {
   "cell_type": "markdown",
   "metadata": {},
   "source": [
    "## What is a 'container'?\n",
    "\n",
    "Whenever you run a piece of software in Docker, Docker creates a little isolated ecosystem it calls a **container** to house your software.  Containers were originally designed to be very ephemeral, allowing you to easily spin up and shut down an instance of an app or software tool with minimal effort.\n",
    "\n",
    "Each container is based off of an **image** that contains a suite of software and its dependencies.  Each image generally points to a \"base image\" that is a lightweight Linux distribution (for example, MongoDB's image uses Ubuntu, Elasticsearch uses CentOS, and Neo4j uses a version of Alpine Linux).  This \"base image\" acts as the blank canvas upon which Docker can install the rest of the dependencies required to run your software.  The recipe for a Docker container is contained in a text file called a **Dockerfile**.  A Dockerfile defines the base image and also executes scripts to download other dependencies, set up directories/users/groups and their corresponding permissions, expose ports between the container and host machine, and perform any other important setup steps necessary to get the software up and running.  And all of this happens behind the scenes so you, the user, doesn't have to mess with it!\n",
    "\n",
    "When you invoke the `docker run` command to launch a container, Docker checks to see if the container's image is already downloaded and ready to go on your computer.  If not, Docker will automatically download the image and then proceed to launch a local version of the image according to the specifications outlined in the Dockerfile, along with any options you specify at run time."
   ]
  },
  {
   "cell_type": "markdown",
   "metadata": {},
   "source": [
    "## If a container can come and go, how can I use it for something as permanent as a database?\n",
    "\n",
    "Containerization platforms like Docker and Kubernetes are increasingly adding support for stateful/persistent features that survive the lifecycle of individual containers.  Docker, for example, offers the option to create a named [volume](https://docs.docker.com/storage/volumes/) that is less ephemeral than the container it is connected to.  You can create a Docker volume and then mount it into your container at run time.  When you stop or even remove the container entirely, the volume sticks around just as you left it and can be mounted on a new container, as necessary.\n",
    "\n",
    "Docker is still not a widespread option for production-ready database hosting, but it offers a great way to test out the functionality of different databases on your local machine with minimal installation effort."
   ]
  },
  {
   "cell_type": "markdown",
   "metadata": {},
   "source": [
    "## What if I have needs that go beyond one small container?\n",
    "\n",
    "There are definitely situations where having one container is not enough to handle to complexity of an application or software stack.  Sometimes, you need to divide functionality across multiple containers and set up the containers so they can talk to each other and work together.  This is called \"container orchestration\".  To handle this, Docker has a tool called Docker Compose that can launch and manage multiple containers acting in concert with each other.  For example, Elasticsearch and its web-based visualization front-end, Kibana, are best launched using Docker Compose so that the two services can be managed as separate containers grouped together in a single stack.  Docker Compose comes automatically built into the desktop version of the Docker software.  So, if you have installed Docker's desktop software, you should be ready to go."
   ]
  },
  {
   "cell_type": "code",
   "execution_count": null,
   "metadata": {
    "collapsed": true
   },
   "outputs": [],
   "source": []
  }
 ],
 "metadata": {
  "kernelspec": {
   "display_name": "Python 3",
   "language": "python",
   "name": "python3"
  },
  "language_info": {
   "codemirror_mode": {
    "name": "ipython",
    "version": 3
   },
   "file_extension": ".py",
   "mimetype": "text/x-python",
   "name": "python",
   "nbconvert_exporter": "python",
   "pygments_lexer": "ipython3",
   "version": "3.6.5"
  }
 },
 "nbformat": 4,
 "nbformat_minor": 2
}
