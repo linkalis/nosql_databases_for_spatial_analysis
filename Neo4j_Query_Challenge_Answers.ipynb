{
 "cells": [
  {
   "cell_type": "markdown",
   "metadata": {},
   "source": [
    "# Neo4j: Query Challenge Anwers"
   ]
  },
  {
   "cell_type": "markdown",
   "metadata": {},
   "source": [
    "#### Q1: Which hashtags have the broadest global popularity? (i.e. are used in the most geographically dispersed set of places)\n",
    "\n",
    "```cypher\n",
    "MATCH (p1:Place)<-[:LOCATED_AT]-(t1:Tweet)-[:HASHTAGS]->(h:Hashtag),\n",
    "(p2:Place)<-[:LOCATED_AT]-(t2:Tweet)-[:HASHTAGS]->(h:Hashtag)\n",
    "WHERE h = h\n",
    "AND p1.place_id <> '9999999'\n",
    "AND p2.place_id <> '9999999'\n",
    "RETURN h.hashtag_id, count(DISTINCT p1), avg(distance(p1.centroid, p2.centroid))\n",
    "ORDER BY avg(distance(p1.centroid, p2.centroid)) DESC\n",
    "```"
   ]
  },
  {
   "cell_type": "code",
   "execution_count": null,
   "metadata": {
    "collapsed": true
   },
   "outputs": [],
   "source": []
  }
 ],
 "metadata": {
  "kernelspec": {
   "display_name": "Python 3",
   "language": "python",
   "name": "python3"
  },
  "language_info": {
   "codemirror_mode": {
    "name": "ipython",
    "version": 3
   },
   "file_extension": ".py",
   "mimetype": "text/x-python",
   "name": "python",
   "nbconvert_exporter": "python",
   "pygments_lexer": "ipython3",
   "version": "3.6.0"
  }
 },
 "nbformat": 4,
 "nbformat_minor": 2
}
