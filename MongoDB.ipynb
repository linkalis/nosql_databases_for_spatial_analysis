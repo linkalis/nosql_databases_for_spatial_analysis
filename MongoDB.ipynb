{
 "cells": [
  {
   "cell_type": "markdown",
   "metadata": {},
   "source": [
    "# Getting Started with MongoDB for Spatial Analysis"
   ]
  },
  {
   "cell_type": "markdown",
   "metadata": {},
   "source": [
    "## Launch MongoDB locally using Docker"
   ]
  },
  {
   "cell_type": "markdown",
   "metadata": {},
   "source": [
    "### Create a persistent data volume\n",
    "\n",
    "To get started, you'll need to create a persistent data volume that Docker can use to store your database's files.  Creating a Docker volume allows you to persist any data loaded into the database, even if you have to stop, start, or re-run the Docker container housing your database.  Run the following from the command line to create a Docker volume for you MongoDB database:\n",
    "\n",
    "```bash\n",
    "docker volume create mongodb_volume\n",
    "```\n",
    "\n",
    "To check that the volume was created successfully, run the following from your command line:\n",
    "```bash\n",
    "docker volume ls\n",
    "```\n",
    "\n",
    "You should see a volume called `mongodb_volume` listed in the results."
   ]
  },
  {
   "cell_type": "markdown",
   "metadata": {},
   "source": [
    "### Launch the Docker container\n",
    "\n",
    "Now you're ready to launch MongoDB using Docker!  Run the following from your command line:\n",
    "\n",
    "```bash\n",
    "docker run -d \\\n",
    "--name mongodb \\\n",
    "-p 27017:27017 \\\n",
    "--mount source=mongodb_volume,target=/data/db \\\n",
    "mongo:4.0\n",
    "```\n",
    "\n",
    "What does this command do?  Breaking it down, here's what each argument means:\n",
    "\n",
    "- **-d** : runs the container in \"detached\" mode, so that it keeps running in the background and will not shut off if you close out of your console window\n",
    "- **--name** : the name Docker will give to your container; if you don't specify a name here, Docker will give your container a randomly-generated name\n",
    "- **-p** : these are port mappings, indicating that Docker should forward information going in and out of port 27017 from the Neo4j container to port 27017 on your local machine\n",
    "- **--mount** : takes the persistent volume named `mongodb_volume` and mounts it into the /data folder inside of the container; this is where the database's data and settings will get stored\n",
    "- **-e**: environment variables that get passed to the database's configuration file on startup; these variables are required to make sure plugins will run correctly\n",
    "- At the very end of the command, you'll notice we list **mongo:4.0** as the final argument.  This specifies the Docker image and version to run inside of the container, and will download and launch MongoDB version 4.0 (the most current version as of this writing).  If newer versions are available, you can specify `mongo:latest` to get the most recent version of MongoDB.\n",
    "\n",
    "To check that the container is running, execute the following command in the command line:\n",
    "\n",
    "```docker container ls```\n",
    "\n",
    "You should see something like this, indicating that the container is successfully running:\n",
    "\n",
    "```\n",
    "CONTAINER ID     IMAGE          COMMAND                  CREATED          STATUS         PORTS               \n",
    "blahblahblah     mongo:4.0      \"docker-entrypoint.s…\"   X seconds ago    X seconds ago  0.0.0.0:27017->27017/tcp\n",
    "```"
   ]
  },
  {
   "cell_type": "markdown",
   "metadata": {},
   "source": [
    "<hr>"
   ]
  },
  {
   "cell_type": "markdown",
   "metadata": {},
   "source": [
    "## Connect to the database\n",
    "\n",
    "There are two ways to connect to MongoDB database once it is up and running:\n",
    "\n",
    "#### Method #1: Mongo Compass app\n",
    "\n",
    "MongoDB offers a desktop client software you can use to perform basic queries and other administrative tasks.  To use the client, download the **Mongo Compass app** from the [MongoDB download center](https://www.mongodb.com/download-center#compass).  Be sure to choose the version of the app that matches the operating system on your local computer.  Once that's downloaded, enter the connection credentials as follows, then click \"Connect\":\n",
    "\n",
    "![MongoDB Compass connect app](img_mongodb/mongodb_compass_connect.png)\n",
    "\n",
    "#### Method #2: mongo shell\n",
    "\n",
    "The other way to connect to the MongoDB database is via the command line, using the **mongo shell**.  To start off, run the following command that allows you to enter the Docker container and access a bash shell within the container:\n",
    "\n",
    "```bash\n",
    "docker exec -it mongodb /bin/bash\n",
    "```\n",
    "\n",
    "Once you're inside the container with the bash prompt ready, run the following command to enter the mongo shell:\n",
    "\n",
    "```bash\n",
    "mongo --host localhost:27017\n",
    "```\n",
    "\n",
    "You'll notice that neither of these approaches requires you to authenticate or set a username or password.  This is because MongoDB runs in a kind of \"demo mode\" by default, where authentication features are diabled.  You will need to enable an authentication method and take other security precautions to secure the database installation if you want to use MongoDB in a production environment."
   ]
  },
  {
   "cell_type": "markdown",
   "metadata": {},
   "source": [
    "<hr>"
   ]
  },
  {
   "cell_type": "markdown",
   "metadata": {},
   "source": [
    "## Load data into the database"
   ]
  },
  {
   "cell_type": "markdown",
   "metadata": {},
   "source": [
    "### Create database\n",
    "\n",
    "#### Method 1: Mongo Compass desktop app\n",
    "\n",
    "To create a new database, click the \"Create Database\" button in the Mongo Compass app:\n",
    "\n",
    "![Mongo Compass create database button](img_mongodb/mongodb_create_db.png)\n",
    "\n",
    "Then, give the database a name, and also add a name for the first collection in the database.  A **collection** is a set of documents--in this case, tweets--that are stored together within a database.  If you are familiar with relational databases, you can think of a collection as being similar to a \"table\" in a relational database system.  The primary difference between a \"collection\" and a \"table\" is that collections don't enforce any kind of tabular data structure when storing your data.  Unlike rows in a table, which must be structured according to a pre-defined set of attributes/columns, documents in a collection can contain irregularly-shaped values (ex: arrays, dictionaries), missing values, and are just generally more flexible in their structure than tables generally are.\n",
    "\n",
    "<img src=\"img_mongodb/mongodb_create_db_modal.png\" alt=\"Mongo Compass create database modal\" style=\"width: 400px;\"/>\n",
    "\n",
    "\n",
    "#### Method 2: mongo shell\n",
    "\n",
    "To view a list of existing databases from within the mongo shell, run the following command:\n",
    "\n",
    "```bash\n",
    "show dbs\n",
    "```\n",
    "\n",
    "If you've already created the `twitter_sample` database using the Mongo Compass app, you should see it listed here.  Otherwise, to switch to a database--either existing or new--run the `use` command, followed by the database name.  This will activate the chosen database and/or create the database if it doesn't yet exist:\n",
    "\n",
    "```bash\n",
    "use twitter_sample\n",
    "```\n",
    "To create a collection within a database, run the following command:\n",
    "\n",
    "```bash\n",
    "db.createCollection(\"tweets\")\n",
    "```"
   ]
  },
  {
   "cell_type": "markdown",
   "metadata": {},
   "source": [
    "### Create indexes\n",
    "\n",
    "At this point, you'll want to create at least one index on the tweet \"id\" field to help detect duplicated and guarantee uniqueness when loading tweets into the database.  Once this index is set up, you don't necessarily need to create any additional indexes prior to loading the data, but later on we'll look into adding additional indexes to optimize query performance when you're ready to query the data. \n",
    "\n",
    "#### Method 1: Mongo Compass desktop app\n",
    "\n",
    "To set up an index using the Compass app, navigate to the \"Indexes\" tab within the collection called \"tweets\" that you have just created.  There, you may notice that it already looks like an index named `_id_` is populated in the database.  This is the default index, and maps to the internal [ObjectId](https://docs.mongodb.com/manual/reference/method/ObjectId/) that Mongo uses when it stores each document into the collection:  \n",
    "\n",
    "![Mongo Compass index tab with default index](img_mongodb/mongodb_index_tab.png)\n",
    "\n",
    "You can leave this index alone, and just note that this is _not_ the same as the \"id\" field coming from the Twitter data.  To create an index for the \"id\" field within the tweets you'll be loading, click the \"Create Index\" button and enter the following parameters.  Then click \"Create\" to add the index:\n",
    "\n",
    "<img src=\"img_mongodb/mongodb_create_index_modal.png\" alt=\"Mongo Compass create index modal\" style=\"width: 400px;\"/>\n",
    "\n",
    "\n",
    "#### Method 2: mongo shell\n",
    "\n",
    "You can perform exactly the same index creation operation in the mongo shell.  Just make sure you're `use`-ing the correct database (ex: `use twitter_sample`), and then execute the following from the mongo shell:\n",
    "\n",
    "```bash\n",
    "db.tweets.createIndex(\n",
    "   { id: 1 },\n",
    "   { name: \"id_index\", unique: true }\n",
    ")\n",
    "```\n",
    "\n",
    "You can run `db.tweets.getIndexes()` to check that the index was created successfully."
   ]
  },
  {
   "cell_type": "markdown",
   "metadata": {},
   "source": [
    "### Execute load scripts\n",
    "\n",
    "Insert one vs. bulk insert\n",
    "\n",
    "\n",
    "\n"
   ]
  },
  {
   "cell_type": "code",
   "execution_count": 2,
   "metadata": {
    "collapsed": false
   },
   "outputs": [],
   "source": [
    "import Clean_Load_Scripts as cleanNLoad"
   ]
  },
  {
   "cell_type": "code",
   "execution_count": 3,
   "metadata": {
    "collapsed": true
   },
   "outputs": [],
   "source": [
    "data_folder = '/Users/linkalis/Desktop/twitter_data/twitter_sample_5GB_split/'\n",
    "logs_folder = '/Users/linkalis/Desktop/twitter_data/twitter_sample_5GB_split/logs/'"
   ]
  },
  {
   "cell_type": "code",
   "execution_count": 4,
   "metadata": {
    "collapsed": true
   },
   "outputs": [],
   "source": [
    "extractor = cleanNLoad.Extractor(data_folder, logs_folder, initialize=True)"
   ]
  },
  {
   "cell_type": "code",
   "execution_count": null,
   "metadata": {
    "collapsed": false
   },
   "outputs": [],
   "source": [
    "while extractor.next_file_available():\n",
    "    next_file_data, next_file_name = extractor.get_next_file() # read in the next file\n",
    "    cleaner = cleanNLoad.Cleaner(next_file_data, next_file_name, logs_folder) # clean the data (fix bounding boxes, add centroids, etc.)\n",
    "    cleaned_data = cleaner.clean_data() \n",
    "    loader = cleanNLoad.Loader(cleaned_data, next_file_name, logs_folder) # initialize the loader\n",
    "    loader.get_connection(\"mongodb\", \"localhost\", \"27017\", None, None, \"twitter_sample\", \"tweets\") # create a database connection\n",
    "    loader.load_batch_data() # load the file's data as a batch"
   ]
  },
  {
   "cell_type": "markdown",
   "metadata": {},
   "source": [
    "<hr>"
   ]
  },
  {
   "cell_type": "markdown",
   "metadata": {},
   "source": [
    "## Query the data"
   ]
  },
  {
   "cell_type": "markdown",
   "metadata": {},
   "source": [
    "### Basic queries\n",
    "\n",
    "Now that the data is loaded, let's look at how to perform a few basic queries.  MongoDB uses special query syntax that resembles the syntax used in JavaScript/JSON objects.  If you are familiar with JavaScript, you will likely recognize the parentheses `()` and brackets `{}` that make up the backbone of MongoDB's query structure.  A basic query is formulated as follows:\n",
    "\n",
    "```\n",
    "{ 'attribute_name.sub_attribute_name': { $comparison_operator: 'value' } }\n",
    "```\n",
    "\n",
    "You can access attributes of the document and their sub-attributes using selection syntax that is similar to JavaScript.  For example, tweets contain an attribute called 'user', and each user contains a sub-attribute called 'followers_count'.  So, to query information about users' follower counts, you would search on the field: `'user.follower_count'`.\n",
    "\n",
    "MongoDB query syntax also includes some special [comparison operators](https://docs.mongodb.com/manual/reference/operator/query-comparison/) that you can use within a query:\n",
    "\n",
    "* $eq: equals\n",
    "\n",
    "* $gt: greater than\n",
    "\n",
    "* $gte: greater than or equal to\n",
    "\n",
    "* $in: value is within a specified array\n",
    "\n",
    "* $lt: less than\n",
    "\n",
    "* $lte: less than or equal to\n",
    "\n",
    "* $ne: not equal to\n",
    "\n",
    "* $nin: not in\n",
    "\n",
    "Now, let's look at some sample questions and how you can query for answers in MongoDB.  To help you get started, the Mongo Compass app has a \"Filter\" interface that lets you write simple queries and return the results directly within the app.  To run the queries below, simply paste them into your Mongo Compass app's \"Filter\" box and hit \"Enter\" to return the results.\n",
    "\n",
    "![Mongo Compass filter input box](img_mongodb/mongodb_filter_box.png)"
   ]
  },
  {
   "cell_type": "markdown",
   "metadata": {},
   "source": [
    "#### Query: Which tweets were tweeted by users who have 5,000 or more followers?\n",
    "\n",
    "```\n",
    "{ 'user.followers_count': {$gte: 5000} }\n",
    "```\n",
    "\n",
    "When you run this query, you may notice that it take a substantial amount of time to run.  To understand why this is, it helps to look at the **explain plan** for the query.  Click into the \"Explain Plan\" tab in the Mongo Compass app, then run the query again to get information on how the query is being executed behind the scenes:\n",
    "\n",
    "![Mongo Compass explain plan without index](img_mongodb/mongodb_explain_plan_no_index.png)\n",
    "\n",
    "If to look at the \"Documents Examined\" information, it looks like the query has to examine _every single document_ in the database before it is able to return a result!  Why?  Well, the warning icon at the end of the \"Query Performance Summary\" box gives you a hint: there is \"no index available\" that helps this query run faster.  Without an index on the followers_count values, the database has to search through every individual tweet document to determine whether the followers_count value is greater than or equal to 5,000.  The followers_count values are not sorted in any way, so there is no shortcut available to.  To fix this, simply add an index on the followers_count field.  It takes a while to generate the index, and the index itself takes up some additional space on disk, but it will vastly improve the response time for this query:\n",
    "\n",
    "<img src=\"img_mongodb/mongodb_followers_count_index.png\" alt=\"Mongo Compass followers count index\" style=\"width: 400px;\"/>\n",
    "\n",
    "Once the index is ready, execute the query again and it should return results much faster.  You can see that the database first conducts an index scan (\"IXSCAN\") to split the tweets into those that were tweeted by users with >= 5,000 followers, and those that were tweeted by users with < 5,000 followers.  This process only takes a few hundred milliseconds.  Then, the database performs a fetch operation (\"FETCH\") to actually read the tweets and return them to the results list.  This fetch process takes substantially longer than the index scan operation:\n",
    "\n",
    "![Mongo Compass explain plan with index](img_mongodb/mongodb_explain_plan_with_index.png)\n",
    "\n",
    "This means that, with an index in place, the database is able to sort through the tweets extremely fast, and the time it takes to return results is largely dependent on the number of results being returned in the fetch operation.  (To convince yourself of this, try substituting a followers_count of `100000`, rather than `5000` and see the difference in performance that occurs when the number of results being returned is much lower.)\n",
    "\n",
    "This example illustrates an important tradeoff in MongoDB and document-based databases.  The data load process is often very easy and quick in document-based databases, but the data itself is relatively unstructured behind the scenes.  Without a specific pre-defined data structure--some kind of a data model or indexed table working behind the scenes--it can be tricky to query data efficiently without some additional effort.  It is common, then, to have to generate indexes to help sort the documents based on some key attributes of interest before performing queries within a document-based database."
   ]
  },
  {
   "cell_type": "markdown",
   "metadata": {},
   "source": [
    "### Spatial queries\n",
    "\n",
    "This time around, instead of using the Mongo Compass app, we'll use the mongo shell to query and return results.  This is because Mongo's spatial query syntax can be somewhat complicated and can require multiple lines of code, and the mongo shell is a slightly more convenient interface to use when you're writing complex, multi-line queries.  To run the queries below, simply paste them into your mongo shell and hit \"Enter\" to return the results.\n",
    "\n",
    "\n",
    "Add spatial indexes:\n",
    "    \n",
    "https://docs.mongodb.com/manual/core/geohaystack/"
   ]
  },
  {
   "cell_type": "markdown",
   "metadata": {},
   "source": [
    "### Advanced queries"
   ]
  },
  {
   "cell_type": "markdown",
   "metadata": {},
   "source": [
    "#### Query: How many tweets mention coffee and are associated with Minnesota?\n",
    "\n",
    "This query is pretty general in purpose, so it would be nice if we could conduct a very general text search to address this query.  Fortunately, MongoDB allows you to set up a **text index** that enables full-text search across multiple fields at once.  The [MongoDB documentation on text search](https://docs.mongodb.com/manual/text-search/) explains: \"a collection can only have one text search index, but that index can cover multiple fields.\"  So, let's set up an index that combines all of the important open-ended text fields in the data: the tweet 'text' field, the 'user.description' field and the 'place.full_name' field.  Run the following from the mongo shell to create the index.  This may take a minute or two to complete:\n",
    "\n",
    "```\n",
    "db.tweets.createIndex({ 'text': \"text\", 'user.description': \"text\", 'place.full_name': \"text\" })\n",
    "```\n",
    "\n",
    "Then, simply conduct a text search query for the words \"minnesota\" and \"coffee\" to find tweets that contain both words somewhere in their open-ended text fields.  Then, sort the tweets by relevance score and show the top 10:\n",
    "\n",
    "```\n",
    "db.tweets.find(\n",
    "   { $text: { $search: \"\\\"minnesota\\\" \\\"coffee\\\"\"} },\n",
    "   { text: 1, 'user.description': 1, 'place.full_name': 1, score: { $meta: \"textScore\" } }\n",
    ").sort( { score: { $meta: \"textScore\" } } ).limit(10)\n",
    "```\n",
    "\n",
    "Notice the escape syntax (ex: `\\\"minnesota\\\"`) in the search string above.  The `\\\"` surrounding each search term is what tells MongoDB to conduct a search that requires both Minnesota AND coffee to be in the result.  If you want to search for Minnesota OR coffee, you can simply use `\"minnesota coffee\"` as your search string, and the search will return results that have one term or the other, but not necessarily both.\n",
    "\n",
    "One important limitation of text indexes like this one is that they acts as \"special indexes\" that cannot be combined with complex spatial queries that require their own special indexes.  The MongoDB documentation on the [text query operator](https://docs.mongodb.com/manual/reference/operator/query/text/) explains: \"You cannot combine the \\$text expression, which requires a special text index, with a query operator that requires a different type of special index. For example you cannot combine \\$text expression with the \\$near operator.\""
   ]
  },
  {
   "cell_type": "markdown",
   "metadata": {},
   "source": [
    "#### Query: Which countries have the most tweets associated with them?\n",
    "\n",
    "For this type of query, MongoDB offers a syntax structure called the **aggregation pipeline** that is well suited to queries that involve matching/finding values, grouping these values, and then aggregating them in some way.  The documentation on [aggregation pipelines](https://docs.mongodb.com/manual/core/aggregation-pipeline/) explains how to structure an aggregation-style query, so let's examine how to put this into action.\n",
    "\n",
    "First, we'll want to add an index on the `'place.place_type'` and `'place.id'` values.  This may take a minute or two to complete:\n",
    "\n",
    "```\n",
    "db.tweets.createIndex({ 'place.place_type': 1, 'place.id': 1 })\n",
    "```\n",
    "\n",
    "Next, formulate the aggregate pipeline.  The query below is structured as follows: \n",
    "\n",
    "1) Look for (\"match\") all places with a place_type of 'city'. \n",
    "\n",
    "2) Group by the `place.id` and `place.full_name` fields to use as the id field in the results summary; rename these field 'place_id' and 'place_full_name', which is what will show up in the summary.  Also create a summary field called tweet_count.  Set up this field so that it keeps a running sum of how many tweets associated with each city, adding the value '1' each time a tweet is detected for a particular place.\n",
    "\n",
    "3) Sort the results in descending order, so the places with the greatest number of tweets rise to the top.\n",
    "\n",
    "4) Show the top 10 results.\n",
    "\n",
    "```\n",
    "db.tweets.aggregate([\n",
    "    { $match: { 'place.place_type': 'city' } },\n",
    "    { $group: { _id: { place_id: '$place.id', place_full_name: '$place.full_name' }, tweet_count: { $sum: 1 } } },\n",
    "    { $sort : { tweet_count : -1 } },\n",
    "    { $limit: 10 }\n",
    "]).explain(\"executionStats\")\n",
    "```\n",
    "\n",
    "The result is an easy-to-read summary table, with place_id, place_full_name, and tweet_count fields present.  Are you surprised by any of the results?"
   ]
  },
  {
   "cell_type": "markdown",
   "metadata": {},
   "source": [
    "#### Query: Which cities have the most tweets associated with them?\n",
    "\n",
    "In additional to the aggregation pipeline syntax, MongoDB also offers a [map-reduce syntax](https://docs.mongodb.com/manual/core/map-reduce/) that offers similar aggregation functionality, but that may prove slightly more flexible for complex queries and larger datasets.  Let's look at a simple example here.  The query below is structured as follows:\n",
    "\n",
    "1. Define the **map function**.  The first function that is passed as an argument to MongoDB's mapReduce method is the function that will be applied to each document.  Its goal is to emit key-value pairs that are passed to the `reduce` function for further processing.  In this example, since we only want a simple count of the number of tweets, we only need to pass the place.full_name as the key field, and the value '1' as the value field.\n",
    "\n",
    "2. Define the **reduce function**.  This second function takes all of the key-value pairs emitted in the first phase and combines them using whatever aggregate function we want to use.  Here, it is outputting a simple sum of the '1' values to keep a running total of the number of tweets for each place.\n",
    "\n",
    "3. Define the `query` filters.  Here, we stipulate that the `place.place_type` must be equal to 'city'.\n",
    "\n",
    "4. Define the `out` option, which is the name to use for the collection that the results will be written to.\n",
    "\n",
    "```\n",
    "db.tweets.mapReduce(\n",
    "    function() { emit(this.place.full_name, 1); },\n",
    "    function(key, val) { return Array.sum(val); },\n",
    "    {\n",
    "        query: { 'place.place_type': 'city' },\n",
    "        out: 'tweet_count'\n",
    "    }\n",
    ")\n",
    "```\n",
    "\n",
    "De"
   ]
  },
  {
   "cell_type": "code",
   "execution_count": null,
   "metadata": {
    "collapsed": true
   },
   "outputs": [],
   "source": []
  }
 ],
 "metadata": {
  "kernelspec": {
   "display_name": "Python 3",
   "language": "python",
   "name": "python3"
  },
  "language_info": {
   "codemirror_mode": {
    "name": "ipython",
    "version": 3
   },
   "file_extension": ".py",
   "mimetype": "text/x-python",
   "name": "python",
   "nbconvert_exporter": "python",
   "pygments_lexer": "ipython3",
   "version": "3.6.0"
  }
 },
 "nbformat": 4,
 "nbformat_minor": 2
}
