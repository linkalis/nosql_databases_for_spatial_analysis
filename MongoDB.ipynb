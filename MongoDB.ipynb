{
 "cells": [
  {
   "cell_type": "markdown",
   "metadata": {},
   "source": [
    "# Getting Started with MongoDB for Spatial Analysis"
   ]
  },
  {
   "cell_type": "markdown",
   "metadata": {},
   "source": [
    "## Launch MongoDB locally using Docker"
   ]
  },
  {
   "cell_type": "markdown",
   "metadata": {},
   "source": [
    "### Create a persistent data volume\n",
    "\n",
    "To get started, you'll need to create a persistent data volume that Docker can use to store your database's files.  Creating a Docker volume allows you to persist any data loaded into the database, even if you have to stop, start, or re-run the Docker container housing your database.  Run the following from the command line to create a Docker volume for you MongoDB database:\n",
    "\n",
    "```bash\n",
    "docker volume create mongodb_volume\n",
    "```\n",
    "\n",
    "To check that the volume was created successfully, run the following from your command line:\n",
    "```bash\n",
    "docker volume ls\n",
    "```\n",
    "\n",
    "You should see a volume called `mongodb_volume` listed in the results."
   ]
  },
  {
   "cell_type": "markdown",
   "metadata": {},
   "source": [
    "### Launch the Docker container\n",
    "\n",
    "Now you're ready to launch MongoDB using Docker!  Run the following from your command line:\n",
    "\n",
    "```bash\n",
    "docker run -d \\\n",
    "--name mongodb \\\n",
    "-p 27017:27017 \\\n",
    "--mount source=mongodb_volume,target=/data/db \\\n",
    "mongo:4.0\n",
    "```\n",
    "\n",
    "What does this command do?  Breaking it down, here's what each argument means:\n",
    "\n",
    "- **-d** : runs the container in \"detached\" mode, so that it keeps running in the background and will not shut off if you close out of your console window\n",
    "- **--name** : the name Docker will give to your container; if you don't specify a name here, Docker will give your container a randomly-generated name\n",
    "- **-p** : these are port mappings, indicating that Docker should forward information going in and out of port 27017 from the Neo4j container to port 27017 on your local machine\n",
    "- **--mount** : takes the persistent volume named `mongodb_volume` and mounts it into the /data folder inside of the container; this is where the database's data and settings will get stored\n",
    "- **-e**: environment variables that get passed to the database's configuration file on startup; these variables are required to make sure plugins will run correctly\n",
    "- At the very end of the command, you'll notice we list **mongo:4.0** as the final argument.  This specifies the Docker image and version to run inside of the container, and will download and launch MongoDB version 4.0 (the most current version as of this writing).  If newer versions are available, you can specify `mongo:latest` to get the most recent version of MongoDB.\n",
    "\n",
    "To check that the container is running, execute the following command in the command line:\n",
    "\n",
    "```docker container ls```\n",
    "\n",
    "You should see something like this, indicating that the container is successfully running:\n",
    "\n",
    "```\n",
    "CONTAINER ID     IMAGE          COMMAND                  CREATED          STATUS         PORTS               \n",
    "blahblahblah     mongo:4.0      \"docker-entrypoint.s…\"   X seconds ago    X seconds ago  0.0.0.0:27017->27017/tcp\n",
    "```"
   ]
  },
  {
   "cell_type": "markdown",
   "metadata": {},
   "source": [
    "<hr>"
   ]
  },
  {
   "cell_type": "markdown",
   "metadata": {},
   "source": [
    "## Connect to the database\n",
    "\n",
    "There are two ways to connect to MongoDB database once it is up and running:\n",
    "\n",
    "#### Method #1: Mongo Compass app\n",
    "\n",
    "MongoDB offers a desktop client software you can use to perform basic queries and other administrative tasks.  To use the client, download the **Mongo Compass app** from the [MongoDB download center](https://www.mongodb.com/download-center#compass).  Be sure to choose the version of the app that matches the operating system on your local computer.  Once that's downloaded, enter the connection credentials as follows, then click \"Connect\":\n",
    "\n",
    "![MongoDB Compass connect app](img_mongodb/mongodb_compass_connect.png)\n",
    "\n",
    "#### Method #2: mongo shell\n",
    "\n",
    "The other way to connect to the MongoDB database is via the command line, using the **mongo shell**.  To start off, run the following command that allows you to enter the Docker container and access a bash shell within the container:\n",
    "\n",
    "```bash\n",
    "docker exec -it mongodb /bin/bash\n",
    "```\n",
    "\n",
    "Once you're inside the container with the bash prompt ready, run the following command to enter the mongo shell:\n",
    "\n",
    "```bash\n",
    "mongo --host localhost:27017\n",
    "```\n",
    "\n",
    "You'll notice that neither of these approaches requires you to authenticate or set a username or password.  This is because MongoDB runs in a kind of \"demo mode\" by default, where authentication features are diabled.  You will need to enable an authentication method and take other security precautions to secure the database installation if you want to use MongoDB in a production environment."
   ]
  },
  {
   "cell_type": "markdown",
   "metadata": {},
   "source": [
    "<hr>"
   ]
  },
  {
   "cell_type": "markdown",
   "metadata": {},
   "source": [
    "## Load data into the database"
   ]
  },
  {
   "cell_type": "markdown",
   "metadata": {},
   "source": [
    "### Create database\n",
    "\n",
    "#### Method 1: Mongo Compass desktop app\n",
    "\n",
    "To create a new database, click the \"Create Database\" button in the Mongo Compass app:\n",
    "\n",
    "![Mongo Compass create database button](img_mongodb/mongodb_create_db.png)\n",
    "\n",
    "Then, give the database a name, and also add a name for the first collection in the database.  A **collection** is a set of documents--in this case, tweets--that are stored together within a database.  If you are familiar with relational databases, you can think of a collection as being similar to a \"table\" in a relational database system.  The primary difference between a \"collection\" and a \"table\" is that collections don't enforce any kind of tabular data structure when storing your data.  Unlike rows in a table, which must be structured according to a pre-defined set of attributes/columns, documents in a collection can contain irregularly-shaped values (ex: arrays, dictionaries), missing values, and are just generally more flexible in their structure than tables generally are.\n",
    "\n",
    "<img src=\"img_mongodb/mongodb_create_db_modal.png\" alt=\"Mongo Compass create database modal\" style=\"width: 400px;\"/>\n",
    "\n",
    "\n",
    "#### Method 2: mongo shell\n",
    "\n",
    "To view a list of existing databases from within the mongo shell, run the following command:\n",
    "\n",
    "```bash\n",
    "show dbs\n",
    "```\n",
    "\n",
    "If you've already created the `twitter_sample` database using the Mongo Compass app, you should see it listed here.  Otherwise, to switch to a database--either existing or new--run the `use` command, followed by the database name.  This will activate the chosen database and/or create the database if it doesn't yet exist:\n",
    "\n",
    "```bash\n",
    "use twitter_sample\n",
    "```\n",
    "To create a collection within a database, run the following command:\n",
    "\n",
    "```bash\n",
    "db.createCollection(\"tweets\")\n",
    "```"
   ]
  },
  {
   "cell_type": "markdown",
   "metadata": {},
   "source": [
    "### Create indexes\n",
    "\n",
    "At this point, you'll want to create at least one index on the tweet \"id\" field to help detect duplicated and guarantee uniqueness when loading tweets into the database.  Once this index is set up, you don't necessarily need to create any additional indexes prior to loading the data, but later on we'll look into adding additional indexes to optimize query performance when you're ready to query the data. \n",
    "\n",
    "#### Method 1: Mongo Compass desktop app\n",
    "\n",
    "To set up an index using the Compass app, navigate to the \"Indexes\" tab within the collection called \"tweets\" that you have just created.  There, you may notice that it already looks like an index named `_id_` is populated in the database.  This is the default index, and maps to the internal [ObjectId](https://docs.mongodb.com/manual/reference/method/ObjectId/) that Mongo uses when it stores each document into the collection:  \n",
    "\n",
    "![Mongo Compass index tab with default index](img_mongodb/mongodb_index_tab.png)\n",
    "\n",
    "You can leave this index alone, and just note that this is _not_ the same as the \"id\" field coming from the Twitter data.  To create an index for the \"id\" field within the tweets you'll be loading, click the \"Create Index\" button and enter the following parameters.  Then click \"Create\" to add the index:\n",
    "\n",
    "<img src=\"img_mongodb/mongodb_create_index_modal.png\" alt=\"Mongo Compass create index modal\" style=\"width: 400px;\"/>\n",
    "\n",
    "\n",
    "#### Method 2: mongo shell\n",
    "\n",
    "You can perform exactly the same index creation operation in the mongo shell.  Just make sure you're `use`-ing the correct database (ex: `use twitter_sample`), and then execute the following from the mongo shell:\n",
    "\n",
    "```bash\n",
    "db.tweets.createIndex(\n",
    "   { id: 1 },\n",
    "   { name: \"id_index\", unique: true }\n",
    ")\n",
    "```\n",
    "\n",
    "You can run `db.tweets.getIndexes()` to check that the index was created successfully."
   ]
  },
  {
   "cell_type": "markdown",
   "metadata": {},
   "source": [
    "### Execute load scripts\n",
    "\n",
    "Insert one vs. bulk insert\n",
    "\n",
    "\n",
    "\n"
   ]
  },
  {
   "cell_type": "code",
   "execution_count": 2,
   "metadata": {
    "collapsed": false
   },
   "outputs": [],
   "source": [
    "import Clean_Load_Scripts as cleanNLoad"
   ]
  },
  {
   "cell_type": "code",
   "execution_count": 3,
   "metadata": {
    "collapsed": true
   },
   "outputs": [],
   "source": [
    "data_folder = '/Users/linkalis/Desktop/twitter_data/twitter_sample_5GB_split/'\n",
    "logs_folder = '/Users/linkalis/Desktop/twitter_data/twitter_sample_5GB_split/logs/'"
   ]
  },
  {
   "cell_type": "code",
   "execution_count": 4,
   "metadata": {
    "collapsed": true
   },
   "outputs": [],
   "source": [
    "extractor = cleanNLoad.Extractor(data_folder, logs_folder, initialize=False)"
   ]
  },
  {
   "cell_type": "code",
   "execution_count": null,
   "metadata": {
    "collapsed": false
   },
   "outputs": [],
   "source": [
    "while extractor.next_file_available():\n",
    "    next_file_data, next_file_name = extractor.get_next_file() # read in the next file\n",
    "    cleaner = cleanNLoad.Cleaner(next_file_data, next_file_name, logs_folder) # clean the data (fix bounding boxes, add centroids, etc.)\n",
    "    cleaned_data = cleaner.clean_data() \n",
    "    loader = cleanNLoad.Loader(cleaned_data, next_file_name, logs_folder) # initialize the loader\n",
    "    loader.get_connection(\"mongodb\", \"localhost\", \"27017\", None, None, \"twitter_sample\", \"tweets\") # create a database connection\n",
    "    loader.load_batch_data() # load the file's data as a batch"
   ]
  },
  {
   "cell_type": "markdown",
   "metadata": {},
   "source": [
    "<hr>"
   ]
  },
  {
   "cell_type": "markdown",
   "metadata": {},
   "source": [
    "## Query the data"
   ]
  },
  {
   "cell_type": "markdown",
   "metadata": {},
   "source": [
    "### Basic queries"
   ]
  },
  {
   "cell_type": "markdown",
   "metadata": {},
   "source": [
    "### Spatial queries\n",
    "\n",
    "Add spatial indexes:\n",
    "    \n",
    "https://docs.mongodb.com/manual/core/geohaystack/"
   ]
  },
  {
   "cell_type": "markdown",
   "metadata": {},
   "source": [
    "### Advanced queries\n",
    "\n",
    "Text query: try with and without special indexes\n",
    "\n",
    "Aggregate query"
   ]
  },
  {
   "cell_type": "code",
   "execution_count": null,
   "metadata": {
    "collapsed": true
   },
   "outputs": [],
   "source": []
  }
 ],
 "metadata": {
  "kernelspec": {
   "display_name": "Python 3",
   "language": "python",
   "name": "python3"
  },
  "language_info": {
   "codemirror_mode": {
    "name": "ipython",
    "version": 3
   },
   "file_extension": ".py",
   "mimetype": "text/x-python",
   "name": "python",
   "nbconvert_exporter": "python",
   "pygments_lexer": "ipython3",
   "version": "3.6.0"
  }
 },
 "nbformat": 4,
 "nbformat_minor": 2
}
